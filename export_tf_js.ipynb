{
 "cells": [
  {
   "cell_type": "code",
   "execution_count": 11,
   "metadata": {},
   "outputs": [],
   "source": [
    "import tensorflow as tf\n",
    "import glob\n",
    "\n",
    "MODEL = \"model1\"\n",
    "MODEL = \"model2\"\n",
    "MODEL = \"model3\"\n",
    "\n",
    "MODEL_PATH = f\"./checkpoints/{MODEL}\"\n",
    "\n",
    "model = tf.keras.models.load_model(MODEL_PATH)"
   ]
  },
  {
   "cell_type": "markdown",
   "metadata": {},
   "source": [
    "# Cargamos el modelo\n",
    "\n",
    "Para este paso vamos a utilizar uno de los 3 modelos que ya evaluamos antes."
   ]
  },
  {
   "cell_type": "code",
   "execution_count": 14,
   "metadata": {},
   "outputs": [
    {
     "name": "stdout",
     "output_type": "stream",
     "text": [
      "Model: \"model_2\"\n",
      "_________________________________________________________________\n",
      " Layer (type)                Output Shape              Param #   \n",
      "=================================================================\n",
      " input_3 (InputLayer)        [(None, 256, 256, 3)]     0         \n",
      "                                                                 \n",
      " 1st_set_1st_conv_3x3 (Conv  (None, 254, 254, 4)       112       \n",
      " 2D)                                                             \n",
      "                                                                 \n",
      " 1st_set_2nd_conv_3x3 (Conv  (None, 252, 252, 4)       148       \n",
      " 2D)                                                             \n",
      "                                                                 \n",
      " 1st_set_3rd_conv_3x3 (Conv  (None, 250, 250, 4)       148       \n",
      " 2D)                                                             \n",
      "                                                                 \n",
      " 1st_max_pooling (MaxPoolin  (None, 125, 125, 4)       0         \n",
      " g2D)                                                            \n",
      "                                                                 \n",
      " 2nd_set_1st_conv_3x3 (Conv  (None, 123, 123, 8)       296       \n",
      " 2D)                                                             \n",
      "                                                                 \n",
      " 2nd_set_2nd_conv_3x3 (Conv  (None, 121, 121, 8)       584       \n",
      " 2D)                                                             \n",
      "                                                                 \n",
      " 2nd_set_3rd_conv_3x3 (Conv  (None, 119, 119, 8)       584       \n",
      " 2D)                                                             \n",
      "                                                                 \n",
      " 2nd_max_pooling (MaxPoolin  (None, 59, 59, 8)         0         \n",
      " g2D)                                                            \n",
      "                                                                 \n",
      " 3rd_set_1st_conv_3x3 (Conv  (None, 57, 57, 16)        1168      \n",
      " 2D)                                                             \n",
      "                                                                 \n",
      " 3rd_set_2nd_conv_3x3 (Conv  (None, 55, 55, 16)        2320      \n",
      " 2D)                                                             \n",
      "                                                                 \n",
      " 3rd_set_3rd_conv_3x3 (Conv  (None, 53, 53, 16)        2320      \n",
      " 2D)                                                             \n",
      "                                                                 \n",
      " 3rd_max_pooling (MaxPoolin  (None, 26, 26, 16)        0         \n",
      " g2D)                                                            \n",
      "                                                                 \n",
      " 4th_set_1st_conv_3x3 (Conv  (None, 24, 24, 32)        4640      \n",
      " 2D)                                                             \n",
      "                                                                 \n",
      " 4th_set_2nd_conv_3x3 (Conv  (None, 22, 22, 32)        9248      \n",
      " 2D)                                                             \n",
      "                                                                 \n",
      " 4th_set_3rd_conv_3x3 (Conv  (None, 20, 20, 32)        9248      \n",
      " 2D)                                                             \n",
      "                                                                 \n",
      " 4th_max_pooling (MaxPoolin  (None, 10, 10, 32)        0         \n",
      " g2D)                                                            \n",
      "                                                                 \n",
      " 5th_set_1st_conv_3x3 (Conv  (None, 8, 8, 64)          18496     \n",
      " 2D)                                                             \n",
      "                                                                 \n",
      " 5th_set_2nd_conv_3x3 (Conv  (None, 6, 6, 64)          36928     \n",
      " 2D)                                                             \n",
      "                                                                 \n",
      " 5th_set_3rd_conv_3x3 (Conv  (None, 4, 4, 64)          36928     \n",
      " 2D)                                                             \n",
      "                                                                 \n",
      " features_vector (GlobalMax  (None, 64)                0         \n",
      " Pooling2D)                                                      \n",
      "                                                                 \n",
      " sigmoid_output (Dense)      (None, 1)                 65        \n",
      "                                                                 \n",
      "=================================================================\n",
      "Total params: 123233 (481.38 KB)\n",
      "Trainable params: 123233 (481.38 KB)\n",
      "Non-trainable params: 0 (0.00 Byte)\n",
      "_________________________________________________________________\n"
     ]
    }
   ],
   "source": [
    "restored_model.summary()"
   ]
  },
  {
   "cell_type": "code",
   "execution_count": 15,
   "metadata": {},
   "outputs": [
    {
     "name": "stderr",
     "output_type": "stream",
     "text": [
      "/Users/matiasgonzalez/miniforge3/envs/tfm1/lib/python3.10/site-packages/keras/src/engine/training.py:3000: UserWarning: You are saving your model as an HDF5 file via `model.save()`. This file format is considered legacy. We recommend using instead the native Keras format, e.g. `model.save('my_model.keras')`.\n",
      "  saving_api.save_model(\n"
     ]
    }
   ],
   "source": [
    "# Python\n",
    "import tensorflowjs as tfjs\n",
    "\n",
    "tfjs.converters.save_keras_model(restored_model, f\"./models/{MODEL}_js\")"
   ]
  }
 ],
 "metadata": {
  "kernelspec": {
   "display_name": "tensorflowjs",
   "language": "python",
   "name": "python3"
  },
  "language_info": {
   "codemirror_mode": {
    "name": "ipython",
    "version": 3
   },
   "file_extension": ".py",
   "mimetype": "text/x-python",
   "name": "python",
   "nbconvert_exporter": "python",
   "pygments_lexer": "ipython3",
   "version": "3.10.8"
  },
  "orig_nbformat": 4
 },
 "nbformat": 4,
 "nbformat_minor": 2
}
