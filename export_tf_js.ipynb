{
 "cells": [
  {
   "cell_type": "code",
   "execution_count": 1,
   "metadata": {},
   "outputs": [
    {
     "name": "stderr",
     "output_type": "stream",
     "text": [
      "2023-09-14 15:06:57.144815: I tensorflow/core/platform/cpu_feature_guard.cc:182] This TensorFlow binary is optimized to use available CPU instructions in performance-critical operations.\n",
      "To enable the following instructions: AVX2 FMA, in other operations, rebuild TensorFlow with the appropriate compiler flags.\n",
      "2023-09-14 15:06:57.954068: W tensorflow/compiler/tf2tensorrt/utils/py_utils.cc:38] TF-TRT Warning: Could not find TensorRT\n",
      "2023-09-14 15:06:59.507007: I tensorflow/compiler/xla/stream_executor/cuda/cuda_gpu_executor.cc:995] successful NUMA node read from SysFS had negative value (-1), but there must be at least one NUMA node, so returning NUMA node zero. See more at https://github.com/torvalds/linux/blob/v6.0/Documentation/ABI/testing/sysfs-bus-pci#L344-L355\n",
      "2023-09-14 15:06:59.587999: I tensorflow/compiler/xla/stream_executor/cuda/cuda_gpu_executor.cc:995] successful NUMA node read from SysFS had negative value (-1), but there must be at least one NUMA node, so returning NUMA node zero. See more at https://github.com/torvalds/linux/blob/v6.0/Documentation/ABI/testing/sysfs-bus-pci#L344-L355\n",
      "2023-09-14 15:06:59.588147: I tensorflow/compiler/xla/stream_executor/cuda/cuda_gpu_executor.cc:995] successful NUMA node read from SysFS had negative value (-1), but there must be at least one NUMA node, so returning NUMA node zero. See more at https://github.com/torvalds/linux/blob/v6.0/Documentation/ABI/testing/sysfs-bus-pci#L344-L355\n",
      "2023-09-14 15:06:59.589418: I tensorflow/compiler/xla/stream_executor/cuda/cuda_gpu_executor.cc:995] successful NUMA node read from SysFS had negative value (-1), but there must be at least one NUMA node, so returning NUMA node zero. See more at https://github.com/torvalds/linux/blob/v6.0/Documentation/ABI/testing/sysfs-bus-pci#L344-L355\n",
      "2023-09-14 15:06:59.589548: I tensorflow/compiler/xla/stream_executor/cuda/cuda_gpu_executor.cc:995] successful NUMA node read from SysFS had negative value (-1), but there must be at least one NUMA node, so returning NUMA node zero. See more at https://github.com/torvalds/linux/blob/v6.0/Documentation/ABI/testing/sysfs-bus-pci#L344-L355\n",
      "2023-09-14 15:06:59.589657: I tensorflow/compiler/xla/stream_executor/cuda/cuda_gpu_executor.cc:995] successful NUMA node read from SysFS had negative value (-1), but there must be at least one NUMA node, so returning NUMA node zero. See more at https://github.com/torvalds/linux/blob/v6.0/Documentation/ABI/testing/sysfs-bus-pci#L344-L355\n",
      "2023-09-14 15:07:00.263514: I tensorflow/compiler/xla/stream_executor/cuda/cuda_gpu_executor.cc:995] successful NUMA node read from SysFS had negative value (-1), but there must be at least one NUMA node, so returning NUMA node zero. See more at https://github.com/torvalds/linux/blob/v6.0/Documentation/ABI/testing/sysfs-bus-pci#L344-L355\n",
      "2023-09-14 15:07:00.263657: I tensorflow/compiler/xla/stream_executor/cuda/cuda_gpu_executor.cc:995] successful NUMA node read from SysFS had negative value (-1), but there must be at least one NUMA node, so returning NUMA node zero. See more at https://github.com/torvalds/linux/blob/v6.0/Documentation/ABI/testing/sysfs-bus-pci#L344-L355\n",
      "2023-09-14 15:07:00.263770: I tensorflow/compiler/xla/stream_executor/cuda/cuda_gpu_executor.cc:995] successful NUMA node read from SysFS had negative value (-1), but there must be at least one NUMA node, so returning NUMA node zero. See more at https://github.com/torvalds/linux/blob/v6.0/Documentation/ABI/testing/sysfs-bus-pci#L344-L355\n",
      "2023-09-14 15:07:00.263875: I tensorflow/core/common_runtime/gpu/gpu_device.cc:1639] Created device /job:localhost/replica:0/task:0/device:GPU:0 with 4834 MB memory:  -> device: 0, name: NVIDIA GeForce RTX 2080 SUPER, pci bus id: 0000:01:00.0, compute capability: 7.5\n"
     ]
    }
   ],
   "source": [
    "import tensorflow as tf\n",
    "import glob\n",
    "\n",
    "W = H = 256\n",
    "C = 3\n",
    "MODEL_PATH = \"./checkpoints/stacked_model/\"\n",
    "TRAIN_TFRECORDS_ESP32 = f\"../datasets/PetImages/TFRecords_{W}_{H}_{C}/Train/\"\n",
    "MODEL_REPOSITORY_PATH = \"models/dogs_cats_model.tflite\"\n",
    "\n",
    "model = tf.keras.models.load_model(MODEL_PATH)"
   ]
  },
  {
   "cell_type": "code",
   "execution_count": 4,
   "metadata": {},
   "outputs": [
    {
     "name": "stderr",
     "output_type": "stream",
     "text": [
      "/home/matias/pythonenv/tensorflowjs/lib/python3.10/site-packages/keras/src/engine/training.py:3000: UserWarning: You are saving your model as an HDF5 file via `model.save()`. This file format is considered legacy. We recommend using instead the native Keras format, e.g. `model.save('my_model.keras')`.\n",
      "  saving_api.save_model(\n"
     ]
    }
   ],
   "source": [
    "model.save(\"./models/dogs_cat_classifier.h5\")"
   ]
  },
  {
   "cell_type": "code",
   "execution_count": 6,
   "metadata": {},
   "outputs": [],
   "source": [
    "restored_model = tf.keras.models.load_model(\"./models/dogs_cat_classifier.h5\")"
   ]
  },
  {
   "cell_type": "code",
   "execution_count": 7,
   "metadata": {},
   "outputs": [
    {
     "name": "stdout",
     "output_type": "stream",
     "text": [
      "Model: \"model_2\"\n",
      "_________________________________________________________________\n",
      " Layer (type)                Output Shape              Param #   \n",
      "=================================================================\n",
      " input_3 (InputLayer)        [(None, 256, 256, 3)]     0         \n",
      "                                                                 \n",
      " 1st_set_1st_conv_3x3 (Conv  (None, 254, 254, 4)       112       \n",
      " 2D)                                                             \n",
      "                                                                 \n",
      " 1st_set_2nd_conv_3x3 (Conv  (None, 252, 252, 4)       148       \n",
      " 2D)                                                             \n",
      "                                                                 \n",
      " 1st_set_3rd_conv_3x3 (Conv  (None, 250, 250, 4)       148       \n",
      " 2D)                                                             \n",
      "                                                                 \n",
      " 1st_max_pooling (MaxPoolin  (None, 125, 125, 4)       0         \n",
      " g2D)                                                            \n",
      "                                                                 \n",
      " 2nd_set_1st_conv_3x3 (Conv  (None, 123, 123, 8)       296       \n",
      " 2D)                                                             \n",
      "                                                                 \n",
      " 2nd_set_2nd_conv_3x3 (Conv  (None, 121, 121, 8)       584       \n",
      " 2D)                                                             \n",
      "                                                                 \n",
      " 2nd_set_3rd_conv_3x3 (Conv  (None, 119, 119, 8)       584       \n",
      " 2D)                                                             \n",
      "                                                                 \n",
      " 2nd_max_pooling (MaxPoolin  (None, 59, 59, 8)         0         \n",
      " g2D)                                                            \n",
      "                                                                 \n",
      " 3rd_set_1st_conv_3x3 (Conv  (None, 57, 57, 16)        1168      \n",
      " 2D)                                                             \n",
      "                                                                 \n",
      " 3rd_set_2nd_conv_3x3 (Conv  (None, 55, 55, 16)        2320      \n",
      " 2D)                                                             \n",
      "                                                                 \n",
      " 3rd_set_3rd_conv_3x3 (Conv  (None, 53, 53, 16)        2320      \n",
      " 2D)                                                             \n",
      "                                                                 \n",
      " 3rd_max_pooling (MaxPoolin  (None, 26, 26, 16)        0         \n",
      " g2D)                                                            \n",
      "                                                                 \n",
      " 4th_set_1st_conv_3x3 (Conv  (None, 24, 24, 32)        4640      \n",
      " 2D)                                                             \n",
      "                                                                 \n",
      " 4th_set_2nd_conv_3x3 (Conv  (None, 22, 22, 32)        9248      \n",
      " 2D)                                                             \n",
      "                                                                 \n",
      " 4th_set_3rd_conv_3x3 (Conv  (None, 20, 20, 32)        9248      \n",
      " 2D)                                                             \n",
      "                                                                 \n",
      " 4th_max_pooling (MaxPoolin  (None, 10, 10, 32)        0         \n",
      " g2D)                                                            \n",
      "                                                                 \n",
      " 5th_set_1st_conv_3x3 (Conv  (None, 8, 8, 64)          18496     \n",
      " 2D)                                                             \n",
      "                                                                 \n",
      " 5th_set_2nd_conv_3x3 (Conv  (None, 6, 6, 64)          36928     \n",
      " 2D)                                                             \n",
      "                                                                 \n",
      " 5th_set_3rd_conv_3x3 (Conv  (None, 4, 4, 64)          36928     \n",
      " 2D)                                                             \n",
      "                                                                 \n",
      " features_vector (GlobalMax  (None, 64)                0         \n",
      " Pooling2D)                                                      \n",
      "                                                                 \n",
      " sigmoid_output (Dense)      (None, 1)                 65        \n",
      "                                                                 \n",
      "=================================================================\n",
      "Total params: 123233 (481.38 KB)\n",
      "Trainable params: 123233 (481.38 KB)\n",
      "Non-trainable params: 0 (0.00 Byte)\n",
      "_________________________________________________________________\n"
     ]
    }
   ],
   "source": [
    "restored_model.summary()"
   ]
  },
  {
   "cell_type": "code",
   "execution_count": 8,
   "metadata": {},
   "outputs": [
    {
     "name": "stderr",
     "output_type": "stream",
     "text": [
      "/home/matias/pythonenv/tensorflowjs/lib/python3.10/site-packages/keras/src/engine/training.py:3000: UserWarning: You are saving your model as an HDF5 file via `model.save()`. This file format is considered legacy. We recommend using instead the native Keras format, e.g. `model.save('my_model.keras')`.\n",
      "  saving_api.save_model(\n"
     ]
    }
   ],
   "source": [
    "# Python\n",
    "import tensorflowjs as tfjs\n",
    "\n",
    "tfjs.converters.save_keras_model(restored_model, \"./models/cat_dogs_model\")"
   ]
  },
  {
   "cell_type": "code",
   "execution_count": null,
   "metadata": {},
   "outputs": [],
   "source": []
  }
 ],
 "metadata": {
  "kernelspec": {
   "display_name": "tensorflowjs",
   "language": "python",
   "name": "python3"
  },
  "language_info": {
   "codemirror_mode": {
    "name": "ipython",
    "version": 3
   },
   "file_extension": ".py",
   "mimetype": "text/x-python",
   "name": "python",
   "nbconvert_exporter": "python",
   "pygments_lexer": "ipython3",
   "version": "3.10.12"
  },
  "orig_nbformat": 4
 },
 "nbformat": 4,
 "nbformat_minor": 2
}
